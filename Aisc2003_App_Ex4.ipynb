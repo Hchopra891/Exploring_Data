{
 "cells": [
  {
   "cell_type": "markdown",
   "metadata": {},
   "source": 
  },
  {
   "cell_type": "markdown",
   "metadata": {},
   "source": [
    "## DBSCAN: Density based spatial clustering of applications with noise \n",
    "\n",
    "#### This is an unsupervised clustering approach. \n",
    "\n",
    "It forms clusters based on density parameter, more the points higher the density. We provide mainly 2 inputs: eps and min_points.There are three points in it. Core points, boundary points and noise points. \n",
    "Initally all the data points are unvisited, and then we jumo to points one by one nad visit them and indentify them to make cluster based on desnity and it propogates further. Boundary pointss also get included in the cluster as it acts as a neighbor to the core points whereas noise points gets eliminated"
   ]
  },
  {
   "cell_type": "code",
   "execution_count": null,
   "metadata": {},
   "outputs": [],
   "source": [
    "# importing the necessary libraries"
   ]
  },
  {
   "cell_type": "code",
   "execution_count": 45,
   "metadata": {},
   "outputs": [],
   "source": [
    "import pandas as pd\n",
    "import numpy as np\n",
    "import matplotlib.pyplot as plt\n",
    "from sklearn.cluster import DBSCAN\n",
    "from sklearn.preprocessing import StandardScaler"
   ]
  },
  {
   "cell_type": "code",
   "execution_count": 2,
   "metadata": {},
   "outputs": [],
   "source": [
    "#  reading the csv file\n",
    "df=pd.read_csv('Csv/wholesale_customers_data.csv')"
   ]
  },
  {
   "cell_type": "code",
   "execution_count": 3,
   "metadata": {},
   "outputs": [
    {
     "data": {
      "text/html": [
       "<div>\n",
       "<style scoped>\n",
       "    .dataframe tbody tr th:only-of-type {\n",
       "        vertical-align: middle;\n",
       "    }\n",
       "\n",
       "    .dataframe tbody tr th {\n",
       "        vertical-align: top;\n",
       "    }\n",
       "\n",
       "    .dataframe thead th {\n",
       "        text-align: right;\n",
       "    }\n",
       "</style>\n",
       "<table border=\"1\" class=\"dataframe\">\n",
       "  <thead>\n",
       "    <tr style=\"text-align: right;\">\n",
       "      <th></th>\n",
       "      <th>Channel</th>\n",
       "      <th>Region</th>\n",
       "      <th>Fresh</th>\n",
       "      <th>Milk</th>\n",
       "      <th>Grocery</th>\n",
       "      <th>Frozen</th>\n",
       "      <th>Detergents_Paper</th>\n",
       "      <th>Delicassen</th>\n",
       "    </tr>\n",
       "  </thead>\n",
       "  <tbody>\n",
       "    <tr>\n",
       "      <th>0</th>\n",
       "      <td>2</td>\n",
       "      <td>3</td>\n",
       "      <td>12669</td>\n",
       "      <td>9656</td>\n",
       "      <td>7561</td>\n",
       "      <td>214</td>\n",
       "      <td>2674</td>\n",
       "      <td>1338</td>\n",
       "    </tr>\n",
       "    <tr>\n",
       "      <th>1</th>\n",
       "      <td>2</td>\n",
       "      <td>3</td>\n",
       "      <td>7057</td>\n",
       "      <td>9810</td>\n",
       "      <td>9568</td>\n",
       "      <td>1762</td>\n",
       "      <td>3293</td>\n",
       "      <td>1776</td>\n",
       "    </tr>\n",
       "    <tr>\n",
       "      <th>2</th>\n",
       "      <td>2</td>\n",
       "      <td>3</td>\n",
       "      <td>6353</td>\n",
       "      <td>8808</td>\n",
       "      <td>7684</td>\n",
       "      <td>2405</td>\n",
       "      <td>3516</td>\n",
       "      <td>7844</td>\n",
       "    </tr>\n",
       "    <tr>\n",
       "      <th>3</th>\n",
       "      <td>1</td>\n",
       "      <td>3</td>\n",
       "      <td>13265</td>\n",
       "      <td>1196</td>\n",
       "      <td>4221</td>\n",
       "      <td>6404</td>\n",
       "      <td>507</td>\n",
       "      <td>1788</td>\n",
       "    </tr>\n",
       "    <tr>\n",
       "      <th>4</th>\n",
       "      <td>2</td>\n",
       "      <td>3</td>\n",
       "      <td>22615</td>\n",
       "      <td>5410</td>\n",
       "      <td>7198</td>\n",
       "      <td>3915</td>\n",
       "      <td>1777</td>\n",
       "      <td>5185</td>\n",
       "    </tr>\n",
       "  </tbody>\n",
       "</table>\n",
       "</div>"
      ],
      "text/plain": [
       "   Channel  Region  Fresh  Milk  Grocery  Frozen  Detergents_Paper  Delicassen\n",
       "0        2       3  12669  9656     7561     214              2674        1338\n",
       "1        2       3   7057  9810     9568    1762              3293        1776\n",
       "2        2       3   6353  8808     7684    2405              3516        7844\n",
       "3        1       3  13265  1196     4221    6404               507        1788\n",
       "4        2       3  22615  5410     7198    3915              1777        5185"
      ]
     },
     "execution_count": 3,
     "metadata": {},
     "output_type": "execute_result"
    }
   ],
   "source": [
    "df.head()\n",
    "\n",
    "# showing the first five data points using the head function."
   ]
  },
  {
   "cell_type": "code",
   "execution_count": 4,
   "metadata": {},
   "outputs": [
    {
     "name": "stdout",
     "output_type": "stream",
     "text": [
      "<class 'pandas.core.frame.DataFrame'>\n",
      "RangeIndex: 440 entries, 0 to 439\n",
      "Data columns (total 8 columns):\n",
      "Channel             440 non-null int64\n",
      "Region              440 non-null int64\n",
      "Fresh               440 non-null int64\n",
      "Milk                440 non-null int64\n",
      "Grocery             440 non-null int64\n",
      "Frozen              440 non-null int64\n",
      "Detergents_Paper    440 non-null int64\n",
      "Delicassen          440 non-null int64\n",
      "dtypes: int64(8)\n",
      "memory usage: 27.6 KB\n"
     ]
    }
   ],
   "source": [
    "df.info()\n",
    "\n",
    "# using the info func to see the range index and object type."
   ]
  },
  {
   "cell_type": "code",
   "execution_count": 5,
   "metadata": {},
   "outputs": [
    {
     "name": "stdout",
     "output_type": "stream",
     "text": [
      "Channel             0\n",
      "Region              0\n",
      "Fresh               0\n",
      "Milk                0\n",
      "Grocery             0\n",
      "Frozen              0\n",
      "Detergents_Paper    0\n",
      "Delicassen          0\n",
      "dtype: int64\n"
     ]
    }
   ],
   "source": [
    "print(df.isnull().sum())\n",
    "\n",
    "# checking the null values."
   ]
  },
  {
   "cell_type": "code",
   "execution_count": 6,
   "metadata": {},
   "outputs": [],
   "source": [
    "df.drop(['Channel','Region'],axis=1,inplace=True)\n",
    "\n",
    "# dropping the unnecessary columns."
   ]
  },
  {
   "cell_type": "code",
   "execution_count": 8,
   "metadata": {},
   "outputs": [
    {
     "data": {
      "text/html": [
       "<div>\n",
       "<style scoped>\n",
       "    .dataframe tbody tr th:only-of-type {\n",
       "        vertical-align: middle;\n",
       "    }\n",
       "\n",
       "    .dataframe tbody tr th {\n",
       "        vertical-align: top;\n",
       "    }\n",
       "\n",
       "    .dataframe thead th {\n",
       "        text-align: right;\n",
       "    }\n",
       "</style>\n",
       "<table border=\"1\" class=\"dataframe\">\n",
       "  <thead>\n",
       "    <tr style=\"text-align: right;\">\n",
       "      <th></th>\n",
       "      <th>Fresh</th>\n",
       "      <th>Milk</th>\n",
       "      <th>Grocery</th>\n",
       "      <th>Frozen</th>\n",
       "      <th>Detergents_Paper</th>\n",
       "      <th>Delicassen</th>\n",
       "    </tr>\n",
       "  </thead>\n",
       "  <tbody>\n",
       "    <tr>\n",
       "      <th>0</th>\n",
       "      <td>12669</td>\n",
       "      <td>9656</td>\n",
       "      <td>7561</td>\n",
       "      <td>214</td>\n",
       "      <td>2674</td>\n",
       "      <td>1338</td>\n",
       "    </tr>\n",
       "    <tr>\n",
       "      <th>1</th>\n",
       "      <td>7057</td>\n",
       "      <td>9810</td>\n",
       "      <td>9568</td>\n",
       "      <td>1762</td>\n",
       "      <td>3293</td>\n",
       "      <td>1776</td>\n",
       "    </tr>\n",
       "    <tr>\n",
       "      <th>2</th>\n",
       "      <td>6353</td>\n",
       "      <td>8808</td>\n",
       "      <td>7684</td>\n",
       "      <td>2405</td>\n",
       "      <td>3516</td>\n",
       "      <td>7844</td>\n",
       "    </tr>\n",
       "    <tr>\n",
       "      <th>3</th>\n",
       "      <td>13265</td>\n",
       "      <td>1196</td>\n",
       "      <td>4221</td>\n",
       "      <td>6404</td>\n",
       "      <td>507</td>\n",
       "      <td>1788</td>\n",
       "    </tr>\n",
       "    <tr>\n",
       "      <th>4</th>\n",
       "      <td>22615</td>\n",
       "      <td>5410</td>\n",
       "      <td>7198</td>\n",
       "      <td>3915</td>\n",
       "      <td>1777</td>\n",
       "      <td>5185</td>\n",
       "    </tr>\n",
       "  </tbody>\n",
       "</table>\n",
       "</div>"
      ],
      "text/plain": [
       "   Fresh  Milk  Grocery  Frozen  Detergents_Paper  Delicassen\n",
       "0  12669  9656     7561     214              2674        1338\n",
       "1   7057  9810     9568    1762              3293        1776\n",
       "2   6353  8808     7684    2405              3516        7844\n",
       "3  13265  1196     4221    6404               507        1788\n",
       "4  22615  5410     7198    3915              1777        5185"
      ]
     },
     "execution_count": 8,
     "metadata": {},
     "output_type": "execute_result"
    }
   ],
   "source": [
    "df.head()"
   ]
  },
  {
   "cell_type": "code",
   "execution_count": 9,
   "metadata": {},
   "outputs": [],
   "source": [
    "# Creating a new dataset from the original ones.\n",
    "# Takng the columns that are needed to work on. \n",
    "\n",
    "df_new=df[['Fresh','Milk']]\n",
    "df_new=df.to_numpy().astype('float32',copy=False)"
   ]
  },
  {
   "cell_type": "code",
   "execution_count": 51,
   "metadata": {},
   "outputs": [
    {
     "data": {
      "text/plain": [
       "array([[ 0.05293319,  0.5235678 , -0.04111489, -0.58936715, -0.04356873,\n",
       "        -0.06633906],\n",
       "       [-0.391302  ,  0.5444577 ,  0.17031837, -0.27013618,  0.08640683,\n",
       "         0.08915105],\n",
       "       [-0.44702926,  0.40853772, -0.0281571 , -0.13753572,  0.13323164,\n",
       "         2.2432926 ],\n",
       "       ...,\n",
       "       [ 0.20032555,  1.3146708 ,  2.3483863 , -0.5433798 ,  2.5112176 ,\n",
       "         0.12145607],\n",
       "       [-0.13538389, -0.5175357 , -0.6025139 , -0.41944057, -0.56977034,\n",
       "         0.21304613],\n",
       "       [-0.729307  , -0.5559243 , -0.57322717, -0.6200942 , -0.5048875 ,\n",
       "        -0.5228694 ]], dtype=float32)"
      ]
     },
     "execution_count": 51,
     "metadata": {},
     "output_type": "execute_result"
    }
   ],
   "source": [
    "df_new"
   ]
  },
  {
   "cell_type": "code",
   "execution_count": 12,
   "metadata": {},
   "outputs": [],
   "source": [
    "# Using the standardScaler func to normalize data to scale each value to 0 mean\n",
    "\n",
    "stand_scale=StandardScaler().fit(df_new)\n",
    "df_new=stand_scale.transform(df_new)\n",
    "\n"
   ]
  },
  {
   "cell_type": "code",
   "execution_count": 50,
   "metadata": {},
   "outputs": [
    {
     "data": {
      "text/plain": [
       "array([[ 0.05293319,  0.5235678 , -0.04111489, -0.58936715, -0.04356873,\n",
       "        -0.06633906],\n",
       "       [-0.391302  ,  0.5444577 ,  0.17031837, -0.27013618,  0.08640683,\n",
       "         0.08915105],\n",
       "       [-0.44702926,  0.40853772, -0.0281571 , -0.13753572,  0.13323164,\n",
       "         2.2432926 ],\n",
       "       ...,\n",
       "       [ 0.20032555,  1.3146708 ,  2.3483863 , -0.5433798 ,  2.5112176 ,\n",
       "         0.12145607],\n",
       "       [-0.13538389, -0.5175357 , -0.6025139 , -0.41944057, -0.56977034,\n",
       "         0.21304613],\n",
       "       [-0.729307  , -0.5559243 , -0.57322717, -0.6200942 , -0.5048875 ,\n",
       "        -0.5228694 ]], dtype=float32)"
      ]
     },
     "execution_count": 50,
     "metadata": {},
     "output_type": "execute_result"
    }
   ],
   "source": [
    "df_new"
   ]
  },
  {
   "cell_type": "markdown",
   "metadata": {},
   "source": [
    "### Applying DBSCAN Algorithm"
   ]
  },
  {
   "cell_type": "code",
   "execution_count": 49,
   "metadata": {},
   "outputs": [
    {
     "data": {
      "text/plain": [
       "DBSCAN(algorithm='auto', eps=0.5, leaf_size=30, metric='euclidean',\n",
       "       metric_params=None, min_samples=15, n_jobs=None, p=None)"
      ]
     },
     "execution_count": 49,
     "metadata": {},
     "output_type": "execute_result"
    }
   ],
   "source": [
    "\n",
    "# taking min_samples 15 as advised in the reference doc.\n",
    "# fitting the model\n",
    "\n",
    "dbscan=DBSCAN(eps=.5,min_samples=15)\n",
    "dbscan.fit(df_new)"
   ]
  },
  {
   "cell_type": "code",
   "execution_count": 57,
   "metadata": {},
   "outputs": [
    {
     "data": {
      "text/plain": [
       "array([False, False, False, False, False, False, False, False, False,\n",
       "       False, False,  True, False, False, False,  True, False, False,\n",
       "       False, False, False,  True, False, False, False, False,  True,\n",
       "        True, False, False, False,  True, False, False,  True, False,\n",
       "       False, False, False, False, False, False, False, False, False,\n",
       "       False, False, False, False, False, False, False, False, False,\n",
       "       False,  True, False, False,  True, False, False, False, False,\n",
       "       False,  True, False, False, False, False,  True, False, False,\n",
       "       False, False, False, False, False, False,  True,  True,  True,\n",
       "       False, False,  True, False, False, False, False, False, False,\n",
       "        True, False, False, False, False, False, False,  True,  True,\n",
       "       False, False, False, False, False,  True,  True, False, False,\n",
       "       False, False,  True, False, False, False,  True,  True,  True,\n",
       "       False, False,  True,  True,  True,  True, False, False, False,\n",
       "       False, False, False, False, False,  True,  True,  True,  True,\n",
       "        True, False, False, False,  True, False, False, False, False,\n",
       "       False, False,  True,  True,  True, False,  True,  True,  True,\n",
       "       False,  True, False, False,  True, False, False, False, False,\n",
       "        True, False, False, False, False,  True,  True,  True, False,\n",
       "       False, False, False, False, False, False, False, False, False,\n",
       "       False, False, False, False, False, False,  True, False, False,\n",
       "       False, False,  True,  True, False,  True, False, False, False,\n",
       "       False,  True, False, False, False,  True, False, False,  True,\n",
       "       False, False, False, False, False,  True, False, False, False,\n",
       "       False,  True, False,  True,  True, False, False, False,  True,\n",
       "        True, False,  True, False, False, False, False, False, False,\n",
       "       False, False,  True, False,  True, False, False, False,  True,\n",
       "       False, False, False,  True,  True, False, False,  True, False,\n",
       "       False, False, False, False, False, False, False, False,  True,\n",
       "       False, False, False, False, False, False, False, False,  True,\n",
       "       False, False, False, False,  True,  True, False, False, False,\n",
       "       False,  True, False, False, False, False, False,  True, False,\n",
       "        True, False,  True,  True, False, False, False, False, False,\n",
       "       False, False,  True, False, False, False, False, False, False,\n",
       "       False,  True,  True, False, False, False, False,  True, False,\n",
       "       False,  True, False,  True, False,  True,  True, False, False,\n",
       "       False, False,  True,  True, False, False, False, False, False,\n",
       "       False, False, False,  True, False, False, False, False, False,\n",
       "       False, False,  True, False, False, False,  True, False,  True,\n",
       "       False,  True, False, False,  True, False, False, False, False,\n",
       "        True,  True,  True,  True,  True, False,  True,  True,  True,\n",
       "        True, False, False, False, False,  True,  True, False, False,\n",
       "        True, False, False, False, False,  True, False,  True,  True,\n",
       "        True,  True,  True, False,  True,  True, False,  True,  True,\n",
       "       False, False, False,  True,  True, False, False, False, False,\n",
       "        True, False, False, False, False, False, False, False, False,\n",
       "       False, False, False, False, False, False, False, False, False,\n",
       "       False, False, False, False, False, False, False, False, False,\n",
       "       False,  True, False, False, False, False, False,  True])"
      ]
     },
     "execution_count": 57,
     "metadata": {},
     "output_type": "execute_result"
    }
   ],
   "source": [
    "#defining the lables\n",
    "\n",
    "labels = dbscan.labels_\n",
    "core_samples = np.zeros_like(labels, dtype = bool)\n",
    "core_samples[dbscan.core_sample_indices_] = True\n",
    "core_samples"
   ]
  },
  {
   "cell_type": "code",
   "execution_count": 59,
   "metadata": {},
   "outputs": [
    {
     "data": {
      "text/plain": [
       "array([-1,  0])"
      ]
     },
     "execution_count": 59,
     "metadata": {},
     "output_type": "execute_result"
    }
   ],
   "source": [
    "# Checking the unique values of the lables\n",
    "\n",
    "np.unique(labels)"
   ]
  },
  {
   "cell_type": "code",
   "execution_count": 63,
   "metadata": {},
   "outputs": [
    {
     "name": "stdout",
     "output_type": "stream",
     "text": [
      "No of noise points: 270\n"
     ]
    }
   ],
   "source": [
    "n_noise_ = list(labels).count(-1)\n",
    "print('No of noise points:',n_noise_)\n"
   ]
  },
  {
   "cell_type": "code",
   "execution_count": 44,
   "metadata": {},
   "outputs": [
    {
     "data": {
      "text/plain": [
       "<matplotlib.collections.PathCollection at 0x1a1ccd69e8>"
      ]
     },
     "execution_count": 44,
     "metadata": {},
     "output_type": "execute_result"
    },
    {
     "data": {
      "image/png": "iVBORw0KGgoAAAANSUhEUgAAAWoAAAD4CAYAAADFAawfAAAABHNCSVQICAgIfAhkiAAAAAlwSFlzAAALEgAACxIB0t1+/AAAADh0RVh0U29mdHdhcmUAbWF0cGxvdGxpYiB2ZXJzaW9uMy4xLjAsIGh0dHA6Ly9tYXRwbG90bGliLm9yZy+17YcXAAAa3klEQVR4nO3da4xdZb3H8d+/c+9MK8bOG4EyaE48ckxMYYrXaJRCvBCJxENsgkadpJiIQoOaUry8wPhGIpajoUUKaLSDisScGOKYxks0MZRp61FpNSE4FRTTbaIVoXRmmP958cxy39bae+37s2e+n2Rn2jV71jzsMr/9zP+5mbsLABCvDb1uAACgNoIaACJHUANA5AhqAIgcQQ0AkRvsxE23bNniU1NTnbg1AKxJR48e/Zu7T6Z9riNBPTU1pfn5+U7cGgDWJDM7lfU5Sh8AEDmCGgAiR1ADQOQIagCIHEENAJEjqGNQKEiPPRY+AkAFgrrXZmeliy6SrrwyfJyd7XWLAESGoO6lQkGamZHOnpXOnAkfZ2boWQMoQ1D30sKCNDxcfm1oKFwHgFUEdS9NTUmLi+XXlpbCdQBYRVD30uSkdPCgNDYmbd4cPh48GK4DwKqO7PWBBuzcKe3YEcodU1OENIAqBHUMJicJaACZKH0AQOQIagCIHEENAJEjqAEgcgQ1AESOoAaAyBHUABA5ghoAIkdQA0DkCGoAiBxBDQCRI6gBIHIENQBEjqAGgMgR1AAQOYIaACKXK6jNbLeZPW5mvzOzWTMb7XTDAABB3aA2s/MlfULStLu/RtKApPd3umEAgCBv6WNQ0piZDUraKOkvnWsSAKBU3aB29z9LukPSnyQ9I+mMu/+48nlmtsvM5s1svlAotL+lALBO5Sl9vFTSNZIulvRySeNmdn3l89z9HnefdvfpSQ5qBYC2yVP62CHpj+5ecPclSQ9LemNnmwUASOQJ6j9Jer2ZbTQzk3SFpJOdbRYAIJGnRv2opIckHZP029WvuafD7QIArBrM8yR3/7ykz3e4LQCAFKxMBIDIEdQAEDmCGgAiR1ADQOQIagCIHEENAJEjqAEgcgQ1AESOoAaAyBHUABA5ghoAIkdQA0DkCGoAiBxBDQCRI6gBIHIENQBEjqAGgMgR1AAQOYIaACJHUKO7CgXpscfCRwC5ENTontlZ6aKLpCuvDB9nZ3vdIqAvENTojkJBmpmRzp6VzpwJH2dm6FkDORDU6I6FBWl4uPza0FC4DqAmghrdMTUlLS6WX1taCtcB1ERQozsmJ6WDB6WxMWnz5vDx4MFwHUBNg71uANaRnTulHTtCuWNqipAGciKo0V2TkwQ00CBKHwAQOYIaACJHUANA5HIFtZmdZ2YPmdnvzeykmb2h0w0DAAR5BxP3SfqRu7/PzIYlbexgmwAAJeoGtZltlvQWSR+SJHdflLRY62sAAO2Tp/TxCkkFSfeb2XEzu9fMxiufZGa7zGzezOYL7N8AAG2TJ6gHJV0q6W533ybpOUl7Kp/k7ve4+7S7T08yTxYA2iZPUD8t6Wl3f3T17w8pBDcAoAvqBrW7/1XSU2b2qtVLV0g60dFWAQD+Le+sj49L+vbqjI8nJX24c00CAJTKFdTu/mtJ0x1uCwAgBSsTASByBDUARI6gbgUnagPoAoK6WZyoDaBLCOpmcKI2gC4iqJvBidoAuoigbgYnagPoIoK6GZyoDaCLONy2WevhRO1CYW3/9wF9gh51KyYnpe3b12aIMasFiAZBjWrMagGiQlCjGrNagKgQ1KjGrBYgKgQ1qjGrBYgKsz6Qbj3MagH6BEGNbJOTBDQQAUofABA5ghoAIkdQA0DkCGoAiBxBDQCRI6gBIHIENQBEjqBGOQ7sBaJDUKOIrU2BKBHUCNjaFIgWQY2ArU2BaBHUCNjaFIgWQd0vOj3Ix9amQLQI6n7QrUG+nTulU6ekw4fDx507O/N9ADTE3L3tN52envb5+fm233ddKhRCOJ89W7w2NhaClN4usGaY2VF3n077XO4etZkNmNlxM/th+5qGuhjkA9a9RkofN0k62amGIAODfMC6lyuozewCSe+WdG9nm4MqDPIB617eo7i+IunTkjZlPcHMdknaJUlbt25tvWUo4vxCYF2r26M2s6slnXb3o7We5+73uPu0u09PEiTtNzkpbd9OSAPrUJ7Sx5skvcfMFiQ9KOntZvatjrYKAPBvdYPa3W919wvcfUrS+yX9xN2v73jLAACSWPACANHLO5goSXL3n0n6WUdaAgBIRY8aACJHUANA5AhqAIgcQQ0AkSOoASByBDUARK5/g7rTJ54AQCM6mEn9GdTdOvEEAPLocCb13wkvnHgCICZtyqS2nPASDU48ARCTLmRS/wV1p088ofYNoBFdOIWp/4K6kyeeUPsG0KgunMLUfzXqRKHQ3IknWV9H7RtAK5rNpFVrq0adaObEk1o9ZmrfAFrRwVOY+jeoG1UoSDMzocd85kz4ODNTrEVz2jeASK2foK7XY+a0bwCRaujggK5osc6TKU+PmdO+AUQorh51J2dd5O0xc9o3gMjEM+ujW7MuOtVjB4AW1Jr1EU/pI6khlwZ1UkNuZ6Am9yqtTQNAxOIpfXRr1gWLWgD0mXiCuhuzLupN0QOACMVT+pA6P+uiW+UVAGijuIJaCoHZbGjWGyhkUQuAPhRP6aNVSe35iiukCy+UDhyofg6LWgD0ofh61M0orT0nPvrR8PGGG8qfy6IWAH1mbfSoFxakwZT3nJtuSh8oZFELgD6yNoJ6YkI6d676ep7d7zgoAEDk+j+oDxyQtm1L/9yLL9YeKGRONYA+0N9BfeBAqEWfO1c+m2N8vP5AIXOqAfSJuAYTS6fXSbUH/AqFUIOuND4ufe1r0rveVbsGzZxqAH2ibo/azC40s5+a2Ukze9zMUtKxDUrLEOefL11wQe2SxPHj0sBA9fXl5fohLTGnGkDfyFP6WJZ0i7u/WtLrJX3MzC5paysqyxBLSyFEs0oSs7PSNddIzz9ffa99+/L1iJlTDaBP1C19uPszkp5Z/fOzZnZS0vmSTrStFWlliFKlJYkk1F94ofw5IyMhpCvnTdfCnGoAfaChGrWZTUnaJunRlM/tkrRLkrZu3dpYK9LKEKVKSxJpoT4+Lj38sHTVVY19X6m1JesA0AW5Z32Y2YSk70u62d3/Wfl5d7/H3afdfXqy0eCrLEMMDYUwTitJpIX6ykr2FD0A6HO5etRmNqQQ0t9294c70pLSMsTEhPTUU+H6tm3lPd4k1GdmQqAvLVFbBrCm1Q1qMzNJByWddPcvd7Q1k5PS4cMhhIeHQ8/54MEQ4qWoLQNYR+qemWhmb5b0C0m/lbSyenmvuz+S9TVNnZkode/cxNLvR9gDiEBLZya6+y8lWdtblaabi1BmZ+v33AEgAnEtIe/WIhSWjwPoI3EFddoilL17w+fauctd0nMvlWenvX6T9pqxWyDQd+IKaimUH06dkj71KclduuOOfEvKG7Eelo+n7QzIboFAX6o7mNiMpgcTE2mDiqXaMcCY1KhLp/itlRp11qCse/mKzk4O1AJoSEuDiT2Rd0l58tw8u+1VanSKXz/NEEl7/Tak/PLEboFAX4gzqPMsKT92THrrW0MgPf+8ZBZ6iI3M4Mi7fLzfZohkrd6s/O1prZV7gDUqvhq1VBxUHB0N+3gMDpYvKb/zTmn37vy77dVTa4CtH2eIZO0MeN997BYI9KE4e9QJW52+PTQUwvnSS0MPsF5pZGAg/6/09XrL/XrAQFZphxWdQN/pn8HEsTHp6FHpX/8Ke4G89rWhJ51l//76W57mWQnZ7dWSANalWoOJcZY+0uY5S2GDpiuvDD3rem8wu3fXL0/kmU/NAQMAeizO0kfaYFjSoz13Lt898pQn8s6n7rdNoPpphgqAuuLrUSchc+edxV7syEgI3kYkJ5PXWoXXSG95clLavj3+4GNRC7DmxFWjrhzYSwYQFxelN7+5+vkjI9k97GQhy9hY+HutKXWNnH5e+fyYgpt6OtC3+qNGnTYNbvfuEIbDw8XATYyNSV/6Upi+lyYZaDx7tv6UuqS3fPhw/d5ozD3WhYUwlbHU0FA4sZ39PYC+FU9Qpw3sbdgQQiZrUcall0rLy/nuX2/TpTzzpWOfU33smPTss+XXXnghnNge4xsLgFziCeq0gb3nngshc/hwdS15ZiaET97STTJImLW4Jc8MkG7vutfITneFQvgNpNLKSgjrGN9YAOQST1AnA3uVg4YvvBDCZceOUGs9fDjMpz54MARP1lLz5D5jY8VBwlqljbQ3isXF8t58N3fdS0osV1whXXihdOBA7eenvYls3Bjq+KXW4nauwBoXT1BLIYxXVqqvu0sPPij97W/h79/8ZvaqxMQtt0gnTkg//3kI+B07pI98JL1sUTrTpPSNYmUlhHuiW3OqS0sszz4bBkw/+tHaYZ32JuIuvfhi+TX29wD6j7u3/XHZZZd5U+bm3EO8ZD9GR+s/R3IfG3M/fbp479tvr37O5s3h+tiY+0teEj4ODdW+z+nToZ1zc+XX2+nIEfdNm6rbOzJS+3seOhTau3lz+HjoUPo1ANGRNO8ZmRrXgpef/rT+c0r3U66ldMFLoSB98YvVzzl3LlxPZobUu0+3dtHL2j1weLj2Ih729wDWpHhKH4WCtG9f++63tCT9/e/FskbakvQPfSj9euV9kkHITsz4SBswnJyUvvCF6ucuL9cvW6QtzOmXxToAUsUT1O0e4Fpakq67LgzIHTtW3UMdG5M+8IHqHnrlPOSrry62r90zPrLmZM/OSp/7XHEgcHSUPUaAdSyeoJ6YqD9AWGpwUNqzR7rrLmnTpurPLy+XL5wpXZJeOr0vOfkkmR2SbK2a+N73ssO+lYG5rB76yZPF68mqS/cw0yXmwwoAdEw8Qf3979f+/N695VPNlpdDqSRZYl7L0FB4Xtr0vuTNYWVFeuCBMKWtUlbYt9LDzVpFeORIdc99ZCRs7wpgXYpjMDFrsK/U6dPVU/eWl8M847TzAEslPd/k6K0f/7j6a5I3gazBytKwb8fAXNoqwqUl6fLLm++5x7oHCYCWxNGjTutdVrr33uqDApaWQnmgVslkZCT0hBcWQpDNzobVjs89V/6855+XPvjB6tJH6fdKArDVgbmsVYR33im9+tXNzdWOeQ8SAC2Jo0c9NZV/n+lGDAyE2RO7dxen1C0vVwf+hg3heum+IQMD4TEyEq7v3du+dh0/Xt2j37Qp9Nil5k5IT+rayZvWzIz0speFwxZqfT29cCB6cfSoJyelV76y/ffdsEH67GfLB+zSju9KWw354ouhl//88yGo77ijPT3VrB595dS7Wj33yil9aTNSzp6Vrr22dpvr9cIb2WukGZ2+P7BWZK2EaeXR8MrEEyfyrTasfLznPbU/Pz4eHs3cO++KxzxOnw6rDU+cCF+fds9Dh4rPq3X//fvDCsVNm8q/Lu2+tdqc9jWlz0tWNCYrNtu9orHT9wf6jGqsTIyjR33kSHNfl7UXdWJlpXqvi1YNDEiPPFLsBRYKYXDyu98NH5O9Q5KeYmmvddu29P+GH/wg/LlejfnAgbDnx7lzYSAymdInFevaaa9J2nzvWvPCO72da+zbxQKxyUrw0oekd0j6g6QnJO2p9/yu9ahrPYaG3G+8sfr6hg2t3zvpzd54o/vwcPnnBgfD937JS8K+JJWfr3wMD6f3tNP2GBkZSW/LkSPF58zNVe+H0miP+siR0P7KfVGS79OqTt8f6ENqpUdtZgOSvibpnZIukbTTzC5p67vFli31Z300yky6++7q62n16FoGB0PPc2KieC3pzX71q9VT6ZLByjNnwlS/enO83cPc7rQ51fX2wpbKt2KdnJSuukq67776s0Zq7QTY6e1cu7ldLLAG5Cl9XC7pCXd/0t0XJT0o6Zq2tmJhofqorVYtLmaXPTZsCOE0Olp7DvbAgPSb30hPPx1COW0FZKuWlsIKy7Q51RMTxRLK1FT6aTb79lWH8M6dxcU9p05lr2jMel47t3PN2sukG9vFAmtFVlc7eUh6n6R7S/7+AUlfTXneLknzkua3bt3aWJ8/69f6Tj0GBty/851QJqj1fUt/Ha83YJf1aLTUUlpWqRxsSwYSx8fDx/3701/LegOSjfy7tHKvegOG7WxrJ+4HdJFqlD7yBPV/pwT1/9T6mqb2o96/v3tBndSGv/Sl2s8ZGwv14+SHv9E2Dg7Wr1GXPiYm3O+6K7yJVL4pDA+H2vOmTdkhfehQeM74ePjYy5kU9WaVtFueWSQxBXlMbUEUWg3qN0iaK/n7rZJurfU1TR8cUC842/0YGUk/iGB8PL1Xe/vt6Rv617p/1gEAe/ZUf++hofB98kwpTBtsrDz0YGios0FQOu2wMnTaNWCYJ9DyvCnENB0wprYgGq0G9aCkJyVdLGlY0v9J+q9aX9N0UM/MdDeok95p5Q/43Fz6TIzR0cbKH0ND1eE5MhLu7V4sZUxM5JshUhl6c3PFEMs6HWdurrl/i3qSsElej+TPSei0o0edN9DqvSl0u3dfS0xtQVRqBXXdwUR3X5Z0o6Q5SSclfdfdH2+xNF7tjjvCgFI3LS9L119ffu3KK6V//CN9JsbwcPUufrUsLYWHWXHQ7P77w34es7NhafvgYJgXvWtXYwOqL7wQVjgm867znI7TDsm88eT8yWTJevLnZD50qwOGjcy1rjeLJGvP8F4c8tupk+xZ5bm2ZSV4K4+Ge9Rpv7Z34/He9zbWQ056PidONN7evXuLPemsgcnBwXz3Gh4OA6KVbats0/Bwaz21yrJD0sOtVZqpLG80W4tttHRS62zIrHn6yb9HN3WiR00pZU1QK6WPZh4NB/WRI4392t+ux8BAvppzUvIo/bV+z57GvteGDcV7ZB1eOzRUHAys1+60gEwO6k1q7K38wFb+8O/fn+9NrdXQqbXcvt69s94UjhxJL2P1aoFNOw8cppSyZsQf1J1YmZjnMTLiblb/eYOD7l//epiN8YlPhDeVjRvTAzNPkP3yl+k98k2biiecNzoVMJmh0o4T0tN++GsNjKa9mZXeK2+PuvLNIRnMbTXQYgyzds36YJXnmhF/UGcNhK3Fx+hoCOm0+duVmyKNjla/GaT95jEykj7v2r25QJibq+7VT0zUHnhN+x6N/EqeFaZZ925UO3uxMYnxTQhNWftBPTDgftllvQ/hZh8TE8Xpf5X14CQckxkklXXskZHQQ0/7YU3KFbXmXldK3iDS3kSS+yWhXet+jQZIN3qGa3Xu8lp9E1pn4g/q06fzlSDW6mP79hB8jdaDJfePfMT9gQeqyxJpUw+lxsM1Cdjkhz9tm9U0ab3yWsFLz7A1a/VNaB2JP6h7VaOO9ZFVD856TEyk3yNtUHJkpLFe7fh4cS52VphW1sSTHl5a4NcKkk73DAkzRKxWUPf3ftRrVXJsWF6lJ5RPTIQ5y/v2pW/iNDycPWc3bT7yykpxH+08J8mUzn8uNTpafx513s2kmsGZkuhnWQneyoMedYuP0vJHI7M/Nm0KZZCkx5i2N0m9ZeW1erV5TpKZm6vulUthOmOvUFZBH1D0PeotW7JP/15vkp7nDTeEXuXPfy6dOCHdfnvoKSerF9NWRy4vS+96V7HXeu21YdVbqXqvc61ebelqw6yTZKT0g4r37evdqrlOrQYEuiSOoF5YCAG11gwMSN/5jrR/fwi3eocjDAxIx46V7wu9fXtYcv6Zz5QH9y9+Ubxv1hLthQVp48by7zE6Wj+gah2smwT5ww9X/5stLYUyyW23VX9dL4ORgwrQ59p8rEqTpqYaP3mlGYOD1XXbpIfp3tp9P/nJ8OevfCUE7spKCM7rrgvXr702BNXiovTEEyFYd+0K+1gkxsfL682VJifLw3P79uJ9p6aqg7VTAVV6kszMTAjhpaXiG8UNN0hf/GJ5nbqXwZj8JpDWVqAPmLcSUBmmp6d9fn6+sS9KDm6tNDoqfeMbxb+fd570xz+GDY2GhkIQ3Xab9La3SXfdFXp6Q0MhkFdWwq+8KyvSF74gvfWtYbDtqafCxkvnnVccKDt+PGxstG9fOPVlcVGanpZ+9avi937d68KJL8n3vfnm8H23bSv+0BcK2cFZqlAIg1qlYTY2Fnqr7QyQ2dnqgGrnIF3Wf2+nv28z8v7bAD1gZkfdfTr1c9EEtRTC+mMfKx6hNTwsPfBA+g941g9d6XWp8R/MyvuePBlmpVx+eShBtPOHvVth1quAIhiB3PonqKXww338ePhzaU91rSLMAKh2UMdRoy6V1D/Xi8q6MwBUiGPWBwAgE0ENAJEjqAEgcgQ1AESOoAaAyHVkep6ZFSSdavuNu2eLpL/1uhER4fUox+tRjdekXDOvx0XunjoFrCNB3e/MbD5rPuN6xOtRjtejGq9JuXa/HpQ+ACByBDUARI6gTndPrxsQGV6Pcrwe1XhNyrX19aBGDQCRo0cNAJEjqAEgcgR1CTN7h5n9wcyeMLM9vW5Pr5nZhWb2UzM7aWaPm9lNvW5TDMxswMyOm9kPe92WXjOz88zsITP7/er/J2/odZt6zcx2r/68/M7MZs2s5XMGCepVZjYg6WuS3inpEkk7zeyS3raq55Yl3eLur5b0ekkf4zWRJN0k6WSvGxGJfZJ+5O7/Kem1Wuevi5mdL+kTkqbd/TWSBiS9v9X7EtRFl0t6wt2fdPdFSQ9KuqbHbeopd3/G3Y+t/vlZhR/C83vbqt4yswskvVvSvb1uS6+Z2WZJb5F0UJLcfdHd/9HbVkVhUNKYmQ1K2ijpL63ekKAuOl/SUyV/f1rrPJRKmdmUpG2SHu1tS3ruK5I+LakLpzFH7xWSCpLuXy0F3Wtm471uVC+5+58l3SHpT5KekXTG3X/c6n0J6iJLucbcRUlmNiHp+5Judvd/9ro9vWJmV0s67e5He92WSAxKulTS3e6+TdJzktb12I6ZvVThN/GLJb1c0riZXd/qfQnqoqclXVjy9wvUhl9Z+p2ZDSmE9Lfd/eFet6fH3iTpPWa2oFAae7uZfau3TeqppyU97e7Jb1kPKQT3erZD0h/dveDuS5IelvTGVm9KUBc9Juk/zOxiMxtWGAD43x63qafMzBTqjyfd/cu9bk+vufut7n6Bu08p/P/xE3dvubfUr9z9r5KeMrNXrV66QtKJHjYpBn+S9Hoz27j683OF2jDAGt/htj3i7stmdqOkOYWR2vvc/fEeN6vX3iTpA5J+a2a/Xr22190f6WGbEJePS/r2aufmSUkf7nF7esrdHzWzhyQdU5g1dVxtWE7OEnIAiBylDwCIHEENAJEjqAEgcgQ1AESOoAaAyBHUABA5ghoAIvf/UYfCW8/axRcAAAAASUVORK5CYII=\n",
      "text/plain": [
       "<Figure size 432x288 with 1 Axes>"
      ]
     },
     "metadata": {
      "needs_background": "light"
     },
     "output_type": "display_data"
    }
   ],
   "source": [
    "plt.scatter(df_new[:,0],df_new[:,1],s=20, c=\"red\") "
   ]
  },
  {
   "cell_type": "code",
   "execution_count": 64,
   "metadata": {},
   "outputs": [
    {
     "data": {
      "image/png": "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\n",
      "text/plain": [
       "<Figure size 432x288 with 1 Axes>"
      ]
     },
     "metadata": {
      "needs_background": "light"
     },
     "output_type": "display_data"
    }
   ],
   "source": [
    "# assigning the colors accordingly.\n",
    "\n",
    "plt.scatter(df_new[labels==-1,0],df_new[labels==-1,1],c='magenta')\n",
    "plt.scatter(df_new[labels==0,0],df_new[labels==0,1],c='red')\n",
    "\n",
    "\n",
    "# labeling the x and y axis with the title\n",
    "plt.xlabel('Fresh')\n",
    "plt.ylabel('Milk')\n",
    "plt.title('DBSCAN')\n",
    "\n",
    "plt.show()"
   ]
  },
  {
   "cell_type": "markdown",
   "metadata": {},
   "source": [
    "## Summarizing the DBSCAN:\n",
    "\n",
    "1. Classify the points\n",
    "2. Discard the Noise\n",
    "3. Assign the Cluster to a core points\n",
    "4. Color all the density connected points\n",
    "5. Color boundary points according to the nearest Core points\n",
    "\n",
    "\n",
    "This DBSCAN algorithm is very effective in noise Elimination but doesn't work well with high dimensionality data. It performs very well with separating the high denisty clusters from low density Clusters. Noisy points cannot be taken into clusters\n"
   ]
  },
  {
   "cell_type": "markdown",
   "metadata": {},
   "source": [
    "## References:\n",
    "\n",
    "#### https://blog.dominodatalab.com/topology-and-density-based-clustering\n",
    "\n",
    "#### https://www.kdnuggets.com/2020/04/dbscan-clustering-algorithm-machine-learning.html"
   ]
  },
  {
   "cell_type": "code",
   "execution_count": null,
   "metadata": {},
   "outputs": [],
   "source": []
  }
 ],
 "metadata": {
  "kernelspec": {
   "display_name": "Python 3",
   "language": "python",
   "name": "python3"
  },
  "language_info": {
   "codemirror_mode": {
    "name": "ipython",
    "version": 3
   },
   "file_extension": ".py",
   "mimetype": "text/x-python",
   "name": "python",
   "nbconvert_exporter": "python",
   "pygments_lexer": "ipython3",
   "version": "3.7.3"
  }
 },
 "nbformat": 4,
 "nbformat_minor": 2
}
